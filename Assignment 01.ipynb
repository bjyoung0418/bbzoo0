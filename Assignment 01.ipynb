{
 "cells": [
  {
   "cell_type": "markdown",
   "id": "56dc6c8e",
   "metadata": {},
   "source": [
    "***\n",
    "${\\text{CDS 230 Assignment 01}}$<br>\n",
    "Instructions\n",
    "***"
   ]
  },
  {
   "cell_type": "markdown",
   "id": "9b5015c9",
   "metadata": {},
   "source": [
    "Name: \n",
    "\n",
    "Date: "
   ]
  },
  {
   "cell_type": "markdown",
   "id": "59c188a8",
   "metadata": {},
   "source": [
    "***\n",
    "${\\text{Notes}}$<br>\n",
    "***\n",
    "\n",
    "- Answer all the questions in the Jupyter Notebook template provided. \n",
    "\n",
    "- Upload both a .pdf version of your Jupyter notebook as well as the .ipynb and any additional supplementary files on Blacboard to receive full credit for the submission. \n",
    "\n",
    "- When instructed to use an f'string, you must substitute a variable or code into the f'string to answer the question. You cannot hand type in the value as part of the string. \n",
    "\n",
    "- Make sure none of your code runs off the page."
   ]
  },
  {
   "cell_type": "markdown",
   "id": "19b9d9e0",
   "metadata": {},
   "source": [
    "***\n",
    "${\\text{Exercise 01}}$<br>\n",
    "***\n",
    "&emsp; a) What does the term modeling mean? (0.25pt)\n",
    "\n",
    "&emsp; b) What is a simulation? (0.25pt)\n",
    "\n",
    "&emsp; c) Define the 5 types of models covered in lecture. (0.5pt)"
   ]
  },
  {
   "cell_type": "markdown",
   "id": "6e23b686",
   "metadata": {},
   "source": [
    "***\n",
    "${\\text{Answer 01}}$<br>\n",
    "***"
   ]
  },
  {
   "cell_type": "markdown",
   "id": "7fe0f14a",
   "metadata": {},
   "source": [
    "A simplified representing of a real world system, that can be used to explore, to understand or predict the behavior of the system it represent\n",
    "\n",
    "A simplified, computer, simulation-based construction of some real world phenomenon The process of creating and analyzing a digitalprototype of a physical model to predict its performance in the real world.\n",
    "\n",
    "1.\n",
    "Conceptual - A simplified version of a model that is often the first step in model development. A phenomenon is broken down into moremanageable elements such as components, variables, processes, and interactions.\n",
    "2.\n",
    "Physical - A smaller or larger physical copy of an object or phenomenon\n",
    "3.\n",
    "Mathematical - A description of a system using mathematical concepts and language that form a framework of rules for designing amodel’s behavior\n",
    "4.\n",
    "Empirical - A model that uses experimental observations to construct a statistical model of the relationships between variables\n",
    "5.\n",
    "Simulation - A simplified, computer, simulation-based construction of some real world phenomenon"
   ]
  },
  {
   "cell_type": "markdown",
   "id": "c7f1cbee",
   "metadata": {},
   "source": [
    "***\n",
    "${\\text{Exercise 02}}$<br>\n",
    "***\n",
    "\n",
    "&emsp; a) What is a variable? (0.25pt)\n",
    "\n",
    "&emsp; b) What is an expression? (0.25pt)\n",
    "\n",
    "&emsp; c) What are the rules for variable names? (0.25pt)\n",
    "\n",
    "&emsp; d) What is casting? (0.25pt)"
   ]
  },
  {
   "cell_type": "markdown",
   "id": "4f32f5fc",
   "metadata": {},
   "source": [
    "***\n",
    "${\\text{Answer 02}}$<br>\n",
    "***"
   ]
  },
  {
   "cell_type": "markdown",
   "id": "0173c093",
   "metadata": {},
   "source": [
    "A variable is a name that represents a value in the computer’s memory. It stores a value so that you can reuse it later in your program.\n",
    "\n",
    "An expression is a combination of symbols (or single symbol) that evaluates to a value.\n",
    "\n",
    "Variable names in Python can contain alphanumerical characters a-z, A-Z, 0-9 and some special characters such as_. They must startwith a lower case letter, cannot start with a digit, and cannot use reserved keywords.\n",
    "\n",
    "converting a variable from one data type to another. For example like int() float() str()"
   ]
  },
  {
   "cell_type": "markdown",
   "id": "88066003",
   "metadata": {},
   "source": [
    "***\n",
    "${\\text{Exercise 03}}$<br>\n",
    "***\n",
    "Design a program that performs the following tasks: \n",
    "\n",
    "&emsp; a) First, create a variable named my birthday using camel case and prompt the user \"What is your birthday?:\" and save it as a string. When you run the code, enter the month and day of your birthday. (0.2pt)\n",
    "\n",
    "&emsp; b) Then, create a variable named current year using snake case and assign it the value of the current year. (0.2pt)\n",
    "\n",
    "&emsp; c) Next, create a variable called birth year using camel case and prompt the user \"Enter the year you were born:\" and save it as an integer. When you run the code, assign the year of your birth to this variable. (0.2pt)\n",
    "\n",
    "&emsp; d) Then, create a variable called age that calculates your age by taking the difference of the two years. If your birthday has not passed yet in 2024, then you must also subtract a value of one when calculating your age. (0.2pt)\n",
    "\n",
    "&emsp; e) Finally, display the value for years using the print() function that contains an f'string that states \"I am ___ years old\" where the underscore is replaced by the variable years. (0.2pt)"
   ]
  },
  {
   "cell_type": "markdown",
   "id": "24e5f110",
   "metadata": {},
   "source": [
    "***\n",
    "${\\text{Answer 03}}$<br>\n",
    "***"
   ]
  },
  {
   "cell_type": "code",
   "execution_count": 13,
   "id": "54247893",
   "metadata": {},
   "outputs": [
    {
     "name": "stdout",
     "output_type": "stream",
     "text": [
      "What is your birthday?:   18th, APril\n"
     ]
    }
   ],
   "source": [
    "myBirthday = str(input(\"What is your birthday?:   \"))"
   ]
  },
  {
   "cell_type": "code",
   "execution_count": 14,
   "id": "99b2a8e4",
   "metadata": {},
   "outputs": [],
   "source": [
    "current_year = 2025"
   ]
  },
  {
   "cell_type": "code",
   "execution_count": 15,
   "id": "2af21c6e",
   "metadata": {},
   "outputs": [
    {
     "name": "stdout",
     "output_type": "stream",
     "text": [
      "Enter the year you were born.:  2003\n"
     ]
    }
   ],
   "source": [
    "birthYear = int(input(\"Enter the year you were born.:  \"))"
   ]
  },
  {
   "cell_type": "code",
   "execution_count": 16,
   "id": "d684bd11",
   "metadata": {},
   "outputs": [],
   "source": [
    "age = current_year - birthYear - 1"
   ]
  },
  {
   "cell_type": "code",
   "execution_count": 17,
   "id": "ac215d4d",
   "metadata": {},
   "outputs": [
    {
     "name": "stdout",
     "output_type": "stream",
     "text": [
      "I am 21 years old.\n"
     ]
    }
   ],
   "source": [
    "print(f'I am {age} years old.')"
   ]
  },
  {
   "cell_type": "markdown",
   "id": "d2b91b9e",
   "metadata": {},
   "source": [
    "***\n",
    "${\\text{Exercise 04}}$<br>\n",
    "***\n",
    "Design a program that performs the following tasks: \n",
    "\n",
    "&emsp;Solve the following equation $\\frac{54.9-0.512}{32-4.535}\\$ and round the solution to the thousandths place."
   ]
  },
  {
   "cell_type": "markdown",
   "id": "a7af5fee",
   "metadata": {},
   "source": [
    "***\n",
    "${\\text{Answer 04}}$<br>\n",
    "***"
   ]
  },
  {
   "cell_type": "code",
   "execution_count": 23,
   "id": "d6067580",
   "metadata": {},
   "outputs": [
    {
     "data": {
      "text/plain": [
       "1.98"
      ]
     },
     "execution_count": 23,
     "metadata": {},
     "output_type": "execute_result"
    }
   ],
   "source": [
    "equation = (54.9 - 0.512) / (32-4.535) #my answer\n",
    "round(equation, 3)"
   ]
  },
  {
   "cell_type": "code",
   "execution_count": 21,
   "id": "bc0f76b6",
   "metadata": {},
   "outputs": [
    {
     "data": {
      "text/plain": [
       "'1.980'"
      ]
     },
     "execution_count": 21,
     "metadata": {},
     "output_type": "execute_result"
    }
   ],
   "source": [
    "format((54.9 - 0.512) / (32-4.535), '.3f') #modifieda"
   ]
  },
  {
   "cell_type": "markdown",
   "id": "0bc00776",
   "metadata": {},
   "source": [
    "***\n",
    "${\\text{Exercise 05}}$<br>\n",
    "***\n",
    "Design a program that performs the following tasks: \n",
    "\n",
    "&emsp; a) Create three variables using snake case. (0.2pt)\n",
    "\n",
    "&emsp; b) For the first variable, prompt the user to enter their first name to the variable first name. (0.2pt)\n",
    "\n",
    "&emsp; c) For the second variable, prompt the user to enter their last name to the variable last name. (0.2pt) \n",
    "\n",
    "&emsp; d) Then, concatenate the two strings and assign it to the third variable full name. Make sure there is a space between the first and last names. (0.2pt)\n",
    "\n",
    "&emsp; e) Finally, print the sentence \"My name is ____\" using an f'string where the variable full name replaces the underscore. (0.2pt)"
   ]
  },
  {
   "cell_type": "markdown",
   "id": "0ef5b363",
   "metadata": {},
   "source": [
    "***\n",
    "${\\text{Answer 05}}$<br>\n",
    "***"
   ]
  },
  {
   "cell_type": "code",
   "execution_count": 25,
   "id": "527672f4",
   "metadata": {},
   "outputs": [
    {
     "name": "stdout",
     "output_type": "stream",
     "text": [
      "Enter your first name: Juyoung\n",
      "Enter your last name: Byun\n",
      "My name is Juyoung Byun.\n"
     ]
    }
   ],
   "source": [
    "first_name = input(\"Enter your first name: \")\n",
    "last_name = input(\"Enter your last name: \")\n",
    "full_name = first_name + ' ' + last_name\n",
    "print(f'My name is {full_name}.')"
   ]
  },
  {
   "cell_type": "markdown",
   "id": "76f835f7",
   "metadata": {},
   "source": [
    "***\n",
    "${\\text{Exercise 06}}$<br>\n",
    "***\n",
    "Design a program that answers the following question: \n",
    "\n",
    "&emsp;Professor Colchao gives you \\\\$50,000 USD for your birthday. You decide to deposit the money into a high-interest savings account that earns 2.315% compound interest. The equation for compound interest is $A = P(1+\\frac{r}{100})^{nt}$ where\n",
    "\n",
    "&emsp;A is the final amount\n",
    "\n",
    "&emsp;P is the initial deposit\n",
    "\n",
    "&emsp;$\\frac{r}{100}$ is the interest rate (ie. 5% is $\\frac{5}{100}$)\n",
    "\n",
    "&emsp;n is the number of times the interest is compounded per year\n",
    "\n",
    "&emsp;t is the number of years\n",
    "\n",
    "Calculate how much money you will have in that saving account in 15 years if interest is compounded quarterly (four times per year). Make sure to display the dollar sign in your answer. "
   ]
  },
  {
   "cell_type": "markdown",
   "id": "830a7ff1",
   "metadata": {},
   "source": [
    "***\n",
    "${\\text{Answer 06}}$<br>\n",
    "***"
   ]
  },
  {
   "cell_type": "code",
   "execution_count": 30,
   "id": "b38acc06",
   "metadata": {},
   "outputs": [],
   "source": [
    "t = 15\n",
    "n = 4\n",
    "P = 50000\n",
    "r = 2.315"
   ]
  },
  {
   "cell_type": "code",
   "execution_count": 32,
   "id": "cc33ff36",
   "metadata": {},
   "outputs": [
    {
     "name": "stdout",
     "output_type": "stream",
     "text": [
      "$ 197391.5328331228\n"
     ]
    }
   ],
   "source": [
    "A = P*((1+ r/100)**(n*t))\n",
    "print(f'$ {A}')"
   ]
  },
  {
   "cell_type": "markdown",
   "id": "934f179c",
   "metadata": {},
   "source": [
    "***\n",
    "${\\text{Exercise 07}}$<br>\n",
    "***\n",
    "Design a program that answers the following questions: \n",
    "\n",
    "&emsp;Consider the following quote:\n",
    "\n",
    "So, OK, like right now, for example, the Haitians need to come to America. But some people are all, \"What about the strain on our resources?\" But it's like when I had this garden party for my father's birthday, right? I said RSVP because it was a sit-down dinner. But people came that, like, did not RSVP. So I was, like, totally buggin'. I had to run to the kitchen, redistribute the food, squish in extra place settings. But, by the end of the day it was like, \"The more the merrier!\" And so, if the government could just get to the kitchen, rearrange some things, we could certainly party with the Haitians. And in conclusion, may I please remind you that it does not say \"RSVP\" on the Statue of Liberty.\n",
    "\n",
    "&emsp;a) How many characters are in this string? (include white spaces). Print the sentence using the f'string \"There are ___ characters in this quote.\" Where the underscore is replaced by the number of characters. (0.5pt)\n",
    "\n",
    "&emsp;b) How many times does the string \"in\" appear in this quote? Print the sentence using the f'string \"'in' appears in this quote ____ times.\" Where the underscore is replaced by the number of times the substring appears in the quote. (0.5pt)\n",
    "\n",
    "Extra Credit: What is the first and last name of the actress who said this quote? (0.25pt)"
   ]
  },
  {
   "cell_type": "markdown",
   "id": "72064fa6",
   "metadata": {},
   "source": [
    "***\n",
    "${\\text{Answer 07}}$<br>\n",
    "***"
   ]
  },
  {
   "cell_type": "code",
   "execution_count": 46,
   "id": "f5f49951",
   "metadata": {},
   "outputs": [
    {
     "name": "stdout",
     "output_type": "stream",
     "text": [
      " There are 707 characters in this quote.\n"
     ]
    }
   ],
   "source": [
    "quote = \"So, OK, like right now, for example, the Haitians need to come to America. But some people are all, \\\"What about the strain on our resources?\\\" But it's like when I had this garden party for my father's birthday, right? I said RSVP because it was a sit-down dinner. But people came that, like, did not RSVP. So I was, like, totally buggin'. I had to run to the kitchen, redistribute the food, squish in extra place settings. But, by the end of the day it was like, \\\"The more the merrier!\\\" And so, if the government could just get to the kitchen, rearrange some things, we could certainly party with the Haitians. And in conclusion, may I please remind you that it does not say \\\"RSVP\\\" on the Statue of Liberty.\"\n",
    "print(f\" There are {len(quote)} characters in this quote.\")"
   ]
  },
  {
   "cell_type": "code",
   "execution_count": 51,
   "id": "51b537f7",
   "metadata": {},
   "outputs": [
    {
     "name": "stdout",
     "output_type": "stream",
     "text": [
      " in' appears in this quote 9 times.\n"
     ]
    }
   ],
   "source": [
    "print(f\" in' appears in this quote {quote.count('in')} times.\")"
   ]
  },
  {
   "cell_type": "markdown",
   "id": "aefc8f45",
   "metadata": {},
   "source": [
    "***\n",
    "${\\text{Exercise 08}}$<br>\n",
    "***\n",
    "Design a program that performs the following task: \n",
    "\n",
    "&emsp;Your friend from the Fairfax campus is at Mason Korea for their study abroad year. Your friend asks you for today's temprature. You look at your phone to check the weather and tell your friend the temperature. Your friend looks at you like you are crazy and then you remember that Americans uses Farenheit, not Celsius.\n",
    "\n",
    "&emsp;Prompt the user to \"Please enter today's temperature in Celsius: \" and then convert the temperature in Farenheit using the following equation: $$Farenheit = Celsius * \\frac{9}{5} + 32$$\n",
    "\n",
    "&emsp;Print the f'string \"Today's temperature is _____ degrees Farenheit.\" Where the underscore is replaced by the temperature in Farenheit.\n",
    "\n",
    "Pretend the temperature during at the time of this interaction is 3 degrees Celsius."
   ]
  },
  {
   "cell_type": "markdown",
   "id": "6a756001",
   "metadata": {},
   "source": [
    "***\n",
    "${\\text{Answer 08}}$<br>\n",
    "***"
   ]
  },
  {
   "cell_type": "code",
   "execution_count": 57,
   "id": "f8e02606",
   "metadata": {},
   "outputs": [
    {
     "name": "stdout",
     "output_type": "stream",
     "text": [
      "Please enter today's temperature in Celsius:3\n",
      "Today's temperature is 37.4 degrees Farenheit.\n"
     ]
    }
   ],
   "source": [
    "input(\"Please enter today's temperature in Celsius:\")\n",
    "F = C*(9/5)+32\n",
    "print(f\"Today's temperature is {F} degrees Farenheit.\")"
   ]
  },
  {
   "cell_type": "markdown",
   "id": "e6a7d69e",
   "metadata": {},
   "source": [
    "***\n",
    "${\\text{Exercise 09}}$<br>\n",
    "***\n",
    "Design a program that answers the following questions: \n",
    "\n",
    "&emsp; You are taking multiple CDS courses which require you to spend a significant amount of time sitting in front of a computer. To maintain a healthy lifestyle, you decide you want to exercise by playing soccer. When you go to meet your friends to play, you remember something Professor Colchao casually mentioned the previous class:\n",
    "\n",
    "The drag force, due to air resistance, on an object can be expressed as:\n",
    "$$F_d = \\frac{1}{2}*C_d*\\rho*A*V^2$$\n",
    "Where $\\rho$ is the density of the air, V is the velocity of the object, A is the cross-sectional area of the object, and $C_d$ is the drag coefficient. If the density of air is $1.3\\frac{kg}{m^3}$, the cross sectional area of the soccerball is $385.55cm^2$ and the drag coefficient is 0.15. What is the drag force, in the unit Newtons, due to air resistance with the following conditions:\n",
    "\n",
    "&emsp;a)Kick the ball softly at $4\\frac{m}{s}$? (0.5pt)\n",
    "\n",
    "&emsp;b)Kick the ball harder at $24\\frac{m}{s}$? (0.5pt)\n",
    "\n",
    "Answer both prompts above with an f'string that adds the unit \"Newtons\" to the values and round the values to the hundredths place."
   ]
  },
  {
   "cell_type": "markdown",
   "id": "b6de8e65",
   "metadata": {},
   "source": [
    "***\n",
    "${\\text{Answer 09}}$<br>\n",
    "***"
   ]
  },
  {
   "cell_type": "code",
   "execution_count": 77,
   "id": "6c6cba64",
   "metadata": {},
   "outputs": [
    {
     "name": "stdout",
     "output_type": "stream",
     "text": [
      "Softly: 601.46 Newtons\n"
     ]
    }
   ],
   "source": [
    "p = 1.3\n",
    "V = 4\n",
    "A = 385.55\n",
    "C_d = 0.15\n",
    "F_d = 0.5*C_d*p*A*(V**2)\n",
    "\n",
    "print(f'Softly: {format(F_d, \".2f\")} Newtons')"
   ]
  },
  {
   "cell_type": "code",
   "execution_count": 78,
   "id": "7b121049",
   "metadata": {},
   "outputs": [
    {
     "name": "stdout",
     "output_type": "stream",
     "text": [
      "Harder: 21652.49 Newtons\n"
     ]
    }
   ],
   "source": [
    "p = 1.3\n",
    "V = 24\n",
    "A = 385.55\n",
    "C_d = 0.15\n",
    "F_d = 0.5*C_d*p*A*(V**2)\n",
    "\n",
    "print(f'Harder: {format(F_d, \".2f\")} Newtons')"
   ]
  },
  {
   "cell_type": "markdown",
   "id": "797a9db9",
   "metadata": {},
   "source": [
    "***\n",
    "${\\text{Exercise 10}}$<br>\n",
    "***\n",
    "Design a program that answers the following questions: \n",
    "\n",
    "&emsp;After kicking 5 soccerballs your realize it is a terrible workout and decide to instead run on the treadmill. You decide you are going to run for 4,500 seconds. To distract yourself from how much you hate running you decide to distract yourself by converting 4,500 seconds into hours/minutes/seconds. \n",
    "\n",
    "&emsp;a) Using integer and modular division, convert 4,500 seconds into hours, minutes, and seconds (ie. 3,665 seconds is 1 hour 1 minute and 5 seconds).\n",
    "\n",
    "&emsp;b) You then realize that is way too long to go running. Update the variable, using the same name, modifying where you entered 4,500 seconds to 1,000 seconds and in a second code chunk convert 1,000 seconds to hours/minutes/seconds."
   ]
  },
  {
   "cell_type": "markdown",
   "id": "611d0f63",
   "metadata": {},
   "source": [
    "***\n",
    "${\\text{Answer 10}}$<br>\n",
    "***"
   ]
  },
  {
   "cell_type": "code",
   "execution_count": 83,
   "id": "0822eed8",
   "metadata": {},
   "outputs": [
    {
     "name": "stdout",
     "output_type": "stream",
     "text": [
      " 4500 seconds is 1 hour 15 minute and 0 seconds.\n"
     ]
    }
   ],
   "source": [
    "second =  4500\n",
    "hours = second // 3600\n",
    "minutes = (second // 60) % 60\n",
    "seconds = second % 60\n",
    "\n",
    "print(f' 4500 seconds is {hours} hour {minutes} minute and {seconds} seconds.')"
   ]
  },
  {
   "cell_type": "code",
   "execution_count": 84,
   "id": "bb76855b",
   "metadata": {},
   "outputs": [
    {
     "name": "stdout",
     "output_type": "stream",
     "text": [
      " 1000 seconds is 0 hour 16 minute and 40 seconds.\n"
     ]
    }
   ],
   "source": [
    "second =  1000\n",
    "hours = second // 3600\n",
    "minutes = (second // 60) % 60\n",
    "seconds = second % 60\n",
    "\n",
    "print(f' 1000 seconds is {hours} hour {minutes} minute and {seconds} seconds.')"
   ]
  }
 ],
 "metadata": {
  "kernelspec": {
   "display_name": "Python 3 (ipykernel)",
   "language": "python",
   "name": "python3"
  },
  "language_info": {
   "codemirror_mode": {
    "name": "ipython",
    "version": 3
   },
   "file_extension": ".py",
   "mimetype": "text/x-python",
   "name": "python",
   "nbconvert_exporter": "python",
   "pygments_lexer": "ipython3",
   "version": "3.11.5"
  }
 },
 "nbformat": 4,
 "nbformat_minor": 5
}
